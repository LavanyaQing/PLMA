{
  "nbformat": 4,
  "nbformat_minor": 0,
  "metadata": {
    "colab": {
      "provenance": []
    },
    "kernelspec": {
      "name": "python3",
      "display_name": "Python 3"
    },
    "language_info": {
      "name": "python"
    }
  },
  "cells": [
    {
      "cell_type": "code",
      "execution_count": null,
      "metadata": {
        "colab": {
          "base_uri": "https://localhost:8080/"
        },
        "id": "_9eJLXPujciR",
        "outputId": "8cb2f7d6-5cf5-4e1f-a7c1-e677d8a6e41b"
      },
      "outputs": [
        {
          "output_type": "stream",
          "name": "stdout",
          "text": [
            "1 x 1 = 1          2 x 1 = 2          3 x 1 = 3          4 x 1 = 4          5 x 1 = 5          6 x 1 = 6          7 x 1 = 7          8 x 1 = 8          9 x 1 = 9          \n",
            "1 x 2 = 2          2 x 2 = 4          3 x 2 = 6          4 x 2 = 8          5 x 2 = 10         6 x 2 = 12         7 x 2 = 14         8 x 2 = 16         9 x 2 = 18         \n",
            "1 x 3 = 3          2 x 3 = 6          3 x 3 = 9          4 x 3 = 12         5 x 3 = 15         6 x 3 = 18         7 x 3 = 21         8 x 3 = 24         9 x 3 = 27         \n",
            "1 x 4 = 4          2 x 4 = 8          3 x 4 = 12         4 x 4 = 16         5 x 4 = 20         6 x 4 = 24         7 x 4 = 28         8 x 4 = 32         9 x 4 = 36         \n",
            "1 x 5 = 5          2 x 5 = 10         3 x 5 = 15         4 x 5 = 20         5 x 5 = 25         6 x 5 = 30         7 x 5 = 35         8 x 5 = 40         9 x 5 = 45         \n",
            "1 x 6 = 6          2 x 6 = 12         3 x 6 = 18         4 x 6 = 24         5 x 6 = 30         6 x 6 = 36         7 x 6 = 42         8 x 6 = 48         9 x 6 = 54         \n",
            "1 x 7 = 7          2 x 7 = 14         3 x 7 = 21         4 x 7 = 28         5 x 7 = 35         6 x 7 = 42         7 x 7 = 49         8 x 7 = 56         9 x 7 = 63         \n",
            "1 x 8 = 8          2 x 8 = 16         3 x 8 = 24         4 x 8 = 32         5 x 8 = 40         6 x 8 = 48         7 x 8 = 56         8 x 8 = 64         9 x 8 = 72         \n",
            "1 x 9 = 9          2 x 9 = 18         3 x 9 = 27         4 x 9 = 36         5 x 9 = 45         6 x 9 = 54         7 x 9 = 63         8 x 9 = 72         9 x 9 = 81         \n"
          ]
        }
      ],
      "source": [
        "#1\n",
        "a = 1\n",
        "while a < 10:\n",
        "  b = 1\n",
        "  while (b < 10):\n",
        "    print(f'{b} x {a} = {a*b:<10}', end=' ')\n",
        "    b += 1\n",
        "  a += 1\n",
        "  print()"
      ]
    },
    {
      "cell_type": "code",
      "source": [
        "#2\n",
        "import random\n",
        "number = random.sample(range(1,10),4)\n",
        "print('答案:',number)\n",
        "a = 0\n",
        "b = 0\n",
        "c = 0\n",
        "d = 0\n",
        "while d <= 3 and a != 4:\n",
        "  a = 0\n",
        "  b = 0\n",
        "  c = 0\n",
        "  x = list(input('輸入四個數字(不會重複):'))\n",
        "  for i in x:\n",
        "    if c < len(number) and int(x[c]) == number[c]:\n",
        "        a += 1\n",
        "    else:\n",
        "         if int(i) in number:\n",
        "            b += 1\n",
        "    c += 1\n",
        "  if len(x) == 4:\n",
        "    d += 1\n",
        "  else:\n",
        "    print(input('輸入數字過多,請輸入四個數字(不會重複):'))\n",
        "    d = d\n",
        "  c += 1\n",
        "\n",
        "  print(a, end = ' ')\n",
        "  print('A', end = ' ')\n",
        "  print(b, end = ' ')\n",
        "  print('B')\n",
        "\n",
        "if a == 4 and b == 0:\n",
        "    print('答對了！！！你很厲害！')\n",
        "\n",
        "print('終於在第',(d),'次猜對了！！！')"
      ],
      "metadata": {
        "colab": {
          "base_uri": "https://localhost:8080/"
        },
        "id": "uT791_03zZLu",
        "outputId": "3c6a35b0-abaf-4045-a254-fce18b5cbb65"
      },
      "execution_count": 12,
      "outputs": [
        {
          "output_type": "stream",
          "name": "stdout",
          "text": [
            "答案: [3, 2, 7, 1]\n",
            "輸入四個數字(不會重複):123\n",
            "輸入數字過多,請輸入四個數字(不會重複):1234\n",
            "1234\n",
            "1 A 2 B\n",
            "輸入四個數字(不會重複):3271\n",
            "4 A 0 B\n",
            "答對了！！！你很厲害！\n",
            "終於在第 1 次猜對了！！！\n"
          ]
        }
      ]
    }
  ]
}