{
  "nbformat": 4,
  "nbformat_minor": 0,
  "metadata": {
    "colab": {
      "provenance": []
    },
    "kernelspec": {
      "name": "python3",
      "display_name": "Python 3"
    },
    "language_info": {
      "name": "python"
    }
  },
  "cells": [
    {
      "cell_type": "code",
      "execution_count": 15,
      "metadata": {
        "colab": {
          "base_uri": "https://localhost:8080/"
        },
        "id": "g3XI8Pd7rPhO",
        "outputId": "5b870564-0e37-4ed7-b563-f08643f85069"
      },
      "outputs": [
        {
          "output_type": "stream",
          "name": "stdout",
          "text": [
            "請輸入年份:2024\n",
            "閏年: 2024\n"
          ]
        }
      ],
      "source": [
        "year = int(input(\"請輸入年份:\"))\n",
        "if year <= 1582:\n",
        "  leap_year = year % 4 == 0\n",
        "elif year > 1582:\n",
        "   leap_year = (year % 4 == 0 and year % 100 != 0) or (year % 400 == 0)\n",
        "if leap_year:\n",
        "  print(\"閏年:\",year)\n",
        "else:\n",
        "  print(\"平年:\",year)"
      ]
    },
    {
      "cell_type": "code",
      "source": [
        "year = int(input(\"請輸入年份:\"))\n",
        "if year <= 1582:\n",
        "  leap_year = year % 4 == 0\n",
        "elif year > 1582:\n",
        "   leap_year = (year % 4 == 0 and year % 100 != 0) or (year % 400 == 0)\n",
        "if leap_year:\n",
        "  print(\"閏年:\",year)\n",
        "else:\n",
        "  print(\"平年:\",year)"
      ],
      "metadata": {
        "id": "rR-pqM2Dvy-S",
        "outputId": "70e580b2-cb4e-4034-9cee-1df2eff16008",
        "colab": {
          "base_uri": "https://localhost:8080/"
        }
      },
      "execution_count": 16,
      "outputs": [
        {
          "output_type": "stream",
          "name": "stdout",
          "text": [
            "請輸入年份:2025\n",
            "平年: 2025\n"
          ]
        }
      ]
    }
  ]
}