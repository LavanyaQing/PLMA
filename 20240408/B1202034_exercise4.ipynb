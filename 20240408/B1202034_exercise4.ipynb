{
  "nbformat": 4,
  "nbformat_minor": 0,
  "metadata": {
    "colab": {
      "provenance": []
    },
    "kernelspec": {
      "name": "python3",
      "display_name": "Python 3"
    },
    "language_info": {
      "name": "python"
    }
  },
  "cells": [
    {
      "cell_type": "code",
      "execution_count": 9,
      "metadata": {
        "colab": {
          "base_uri": "https://localhost:8080/"
        },
        "id": "Kq5dm_Xzd3Mg",
        "outputId": "7ddb02d6-1fd6-4f46-8b70-d238f47d2814"
      },
      "outputs": [
        {
          "output_type": "stream",
          "name": "stdout",
          "text": [
            "身高：152\n",
            "體重：52\n",
            "體位:適中\n",
            "BMI: 22\n"
          ]
        }
      ],
      "source": [
        "#1\n",
        "height = float(input('身高：'))\n",
        "weight = float(input('體重：'))\n",
        "height = height/100\n",
        "height *= height\n",
        "BMI = weight / height\n",
        "if BMI < 18.5:\n",
        "    print('體位:過輕')\n",
        "elif 18.5 <= BMI < 24:\n",
        "    print('體位:適中')\n",
        "elif 24 <= BMI < 27:\n",
        "    print('體位:過重')\n",
        "elif BMI >= 27:\n",
        "    print('體位:肥胖')\n",
        "print(\"BMI:\",int(BMI))\n",
        "\n"
      ]
    },
    {
      "cell_type": "code",
      "source": [
        "#2\n",
        "a = float(input(\"請輸入第一個數字:\"))\n",
        "c = input(\"請輸入運算符號(+,-,*,/):\")\n",
        "b = float(input(\"請輸入第二個數字:\"))\n",
        "\n",
        "if c == \"+\":\n",
        "  d = a + b\n",
        "  print(d)\n",
        "elif c == \"-\" :\n",
        "   e = a-b\n",
        "   print(e)\n",
        "elif c == \"*\" :\n",
        "   f = a*b\n",
        "   print(f)\n",
        "elif c == \"/\" :\n",
        "   g = a/b\n",
        "   print(g)"
      ],
      "metadata": {
        "colab": {
          "base_uri": "https://localhost:8080/"
        },
        "id": "4mjhzdDrmivK",
        "outputId": "5db5188a-20fb-42bd-e3f3-7e040c765287"
      },
      "execution_count": 12,
      "outputs": [
        {
          "output_type": "stream",
          "name": "stdout",
          "text": [
            "請輸入第一個數字:5\n",
            "請輸入運算符號(+,-,*,/):-\n",
            "請輸入第二個數字:4\n",
            "1.0\n"
          ]
        }
      ]
    }
  ]
}