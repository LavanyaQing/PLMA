{
  "nbformat": 4,
  "nbformat_minor": 0,
  "metadata": {
    "colab": {
      "provenance": []
    },
    "kernelspec": {
      "name": "python3",
      "display_name": "Python 3"
    },
    "language_info": {
      "name": "python"
    }
  },
  "cells": [
    {
      "cell_type": "code",
      "execution_count": null,
      "metadata": {
        "colab": {
          "base_uri": "https://localhost:8080/"
        },
        "id": "nERff0gDdk2G",
        "outputId": "d2c32643-e494-44b9-c356-fd6f00ad1a21"
      },
      "outputs": [
        {
          "output_type": "stream",
          "name": "stdout",
          "text": [
            "A\n",
            "['K', 'H', 'U']\n"
          ]
        }
      ],
      "source": [
        "#1\n",
        "a = 'C,B,A'\n",
        "b = ['F','G','H']\n",
        "c = a.split(',')\n",
        "c.extend(b)\n",
        "c[0] = 'K'\n",
        "d = c.pop(2)\n",
        "del c[1:4]\n",
        "c.append('U')\n",
        "\n",
        "print(d)\n",
        "print(c)"
      ]
    },
    {
      "cell_type": "code",
      "source": [
        "#2\n",
        "a = (input(\"輸入一個八位數的數字:\"))\n",
        "print(a[4])"
      ],
      "metadata": {
        "colab": {
          "base_uri": "https://localhost:8080/"
        },
        "id": "AUnBV8V5hPqW",
        "outputId": "2a601a5d-2f7e-4dd1-f1b7-f0edfa3dc619"
      },
      "execution_count": null,
      "outputs": [
        {
          "output_type": "stream",
          "name": "stdout",
          "text": [
            "輸入一個八位數的數字:20030516\n",
            "0\n"
          ]
        }
      ]
    },
    {
      "cell_type": "code",
      "source": [
        "#3\n",
        "a = 'My ID is B1202034'\n",
        "c = a.split(' ')\n",
        "b = (a[9:17])\n",
        "print(len(c))\n",
        "print(len(b))\n"
      ],
      "metadata": {
        "colab": {
          "base_uri": "https://localhost:8080/"
        },
        "id": "lP1Enw2lh6zX",
        "outputId": "ffc994e1-c308-40c7-adc1-ed9ea03f201e"
      },
      "execution_count": null,
      "outputs": [
        {
          "output_type": "stream",
          "name": "stdout",
          "text": [
            "4\n",
            "8\n"
          ]
        }
      ]
    },
    {
      "cell_type": "code",
      "source": [
        "#4\n",
        "a = \"I'm a student\"\n",
        "b = list(a)\n",
        "\n",
        "print(b[2])\n"
      ],
      "metadata": {
        "colab": {
          "base_uri": "https://localhost:8080/"
        },
        "id": "ojnJFCMKk9Ef",
        "outputId": "2ec6b198-bde5-4de0-b28e-5fd133d0455d"
      },
      "execution_count": null,
      "outputs": [
        {
          "output_type": "stream",
          "name": "stdout",
          "text": [
            "m\n"
          ]
        }
      ]
    }
  ]
}