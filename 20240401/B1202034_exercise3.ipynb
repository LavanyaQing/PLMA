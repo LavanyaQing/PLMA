{
  "nbformat": 4,
  "nbformat_minor": 0,
  "metadata": {
    "colab": {
      "provenance": []
    },
    "kernelspec": {
      "name": "python3",
      "display_name": "Python 3"
    },
    "language_info": {
      "name": "python"
    }
  },
  "cells": [
    {
      "cell_type": "code",
      "execution_count": null,
      "metadata": {
        "colab": {
          "base_uri": "https://localhost:8080/"
        },
        "id": "BzKge0Hdc9pF",
        "outputId": "9b91a816-fc1b-4f97-904a-dc8080c8f716"
      },
      "outputs": [
        {
          "output_type": "stream",
          "name": "stdout",
          "text": [
            "賴宏瑋平均分數: 88.33333333333333\n",
            "{'姓名': '賴宏瑋', '性別': '男', '學號': 'M1129020'}\n",
            "許珈綺平均分數: 95.0\n",
            "{'姓名': '許珈綺', '性別': '女', '學號': 'M1229001'}\n"
          ]
        }
      ],
      "source": [
        "#1\n",
        "import copy\n",
        "a = {'姓名':'賴宏瑋','性別':'男','作業分數':[95,100,90]}\n",
        "b = {'學號':'M1129020'}\n",
        "c = {**a,**b}\n",
        "d = copy.deepcopy(c)\n",
        "c['作業分數'][1] = 80\n",
        "d['姓名'] = '許珈綺'\n",
        "d['性別'] = '女'\n",
        "d['學號'] = 'M1229001'\n",
        "e = c.pop('作業分數')\n",
        "average = sum(e)/len(e)\n",
        "f = d.pop('作業分數')\n",
        "average1 = sum(f)/len(f)\n",
        "print(\"賴宏瑋平均分數:\",average)\n",
        "print(c)\n",
        "print(\"許珈綺平均分數:\",average1)\n",
        "print(d)"
      ]
    },
    {
      "cell_type": "code",
      "source": [
        "#2\n",
        "a = [100,50,45,60,90,95,80,50]\n",
        "a.insert(0,88)\n",
        "a[2:5] = [70,50]\n",
        "a.remove(50)\n",
        "b = a.pop(0)\n",
        "c = a.pop(-1)\n",
        "d = b+c\n",
        "print(a)\n",
        "print(d)"
      ],
      "metadata": {
        "colab": {
          "base_uri": "https://localhost:8080/"
        },
        "id": "HXC7atxsi21v",
        "outputId": "88f71a0b-fb5c-434a-f667-f3ca3d782941"
      },
      "execution_count": null,
      "outputs": [
        {
          "output_type": "stream",
          "name": "stdout",
          "text": [
            "[100, 70, 90, 95, 80]\n",
            "138\n"
          ]
        }
      ]
    },
    {
      "cell_type": "code",
      "source": [
        "#3\n",
        "a = 347\n",
        "b = 3\n",
        "A = a // b\n",
        "B = a % b\n",
        "c = A**B\n",
        "print(\"商(A):\", a // b)\n",
        "print(\"餘數(B):\", a % b)\n",
        "print(\"A的B次方:\",c)\n"
      ],
      "metadata": {
        "colab": {
          "base_uri": "https://localhost:8080/"
        },
        "id": "YRDEFP3GpQf5",
        "outputId": "a0135dc7-5a59-496b-a67c-cb6821873617"
      },
      "execution_count": null,
      "outputs": [
        {
          "output_type": "stream",
          "name": "stdout",
          "text": [
            "商(A): 115\n",
            "餘數(B): 2\n",
            "A的B次方: 13225\n"
          ]
        }
      ]
    }
  ]
}