{
  "nbformat": 4,
  "nbformat_minor": 0,
  "metadata": {
    "colab": {
      "provenance": []
    },
    "kernelspec": {
      "name": "python3",
      "display_name": "Python 3"
    },
    "language_info": {
      "name": "python"
    }
  },
  "cells": [
    {
      "cell_type": "code",
      "execution_count": null,
      "metadata": {
        "colab": {
          "base_uri": "https://localhost:8080/"
        },
        "id": "yllMPxEAdm2R",
        "outputId": "e50a52bb-f79b-4b7c-be85-fd2458fa5448"
      },
      "outputs": [
        {
          "output_type": "stream",
          "name": "stdout",
          "text": [
            "495\n"
          ]
        }
      ],
      "source": [
        "x = 2\n",
        "y = 1\n",
        "a = 2*x+y\n",
        "b = 100-y\n",
        "c= a*b\n",
        "print(c)\n"
      ]
    },
    {
      "cell_type": "code",
      "source": [
        "y = 4\n",
        "a = 100\n",
        "b = 2*y+1\n",
        "c = a/b\n",
        "print(c)"
      ],
      "metadata": {
        "colab": {
          "base_uri": "https://localhost:8080/"
        },
        "id": "LWhmQDVWeuZs",
        "outputId": "0ad0aea7-3c83-4a36-b5bb-5b64a7e24b89"
      },
      "execution_count": null,
      "outputs": [
        {
          "output_type": "stream",
          "name": "stdout",
          "text": [
            "11.11111111111111\n"
          ]
        }
      ]
    }
  ]
}