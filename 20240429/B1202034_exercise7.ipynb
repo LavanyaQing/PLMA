{
  "nbformat": 4,
  "nbformat_minor": 0,
  "metadata": {
    "colab": {
      "provenance": []
    },
    "kernelspec": {
      "name": "python3",
      "display_name": "Python 3"
    },
    "language_info": {
      "name": "python"
    }
  },
  "cells": [
    {
      "cell_type": "code",
      "execution_count": 33,
      "metadata": {
        "id": "U-dj44lVoxZC",
        "colab": {
          "base_uri": "https://localhost:8080/"
        },
        "outputId": "62b161d7-5b44-4c17-8603-b93d6cc94a22"
      },
      "outputs": [
        {
          "output_type": "stream",
          "name": "stdout",
          "text": [
            "請輸入聖誕樹層數（至少7層以上）：3\n",
            "層數最少7層以上,請重新輸入.\n",
            "請輸入聖誕樹層數（至少7層以上）：7\n",
            "      *\n",
            "     ***\n",
            "    *****\n",
            "   *******\n",
            "  *********\n",
            " ***********\n",
            "*************\n",
            "     ***\n",
            "     ***\n",
            "     ***\n"
          ]
        }
      ],
      "source": [
        "#1\n",
        "def draw_christmas_tree(height):\n",
        "    for i in range(1, height + 1):\n",
        "        width = 2 * i - 1\n",
        "        print(' ' * ((2 * height - 1 - width) // 2) + '*' * width)\n",
        "\n",
        "    wood_width = 3\n",
        "    wood_indent = (2 * height - 1 - wood_width) // 2\n",
        "    for j in range(wood_width):\n",
        "        print(' ' * wood_indent + '*' * wood_width)\n",
        "while True:\n",
        "    try:\n",
        "        height = int(input('請輸入聖誕樹層數（至少7層以上）：'))\n",
        "\n",
        "        if height < 7:\n",
        "            print('層數最少7層以上,請重新輸入.')\n",
        "        else:\n",
        "            draw_christmas_tree(height)\n",
        "            break\n",
        "    except ValueError:\n",
        "        print('輸入格式錯誤，請輸入一個有效的整數。')\n",
        "\n"
      ]
    },
    {
      "cell_type": "code",
      "source": [
        "#2\n",
        "def calculate_bmi(height, weight):\n",
        "    bmi = weight / ((height / 100) ** 2)\n",
        "    return bmi\n",
        "\n",
        "def interpret_bmi(bmi):\n",
        "    if bmi < 18.5:\n",
        "        return \"體重過輕\"\n",
        "    elif 18.5 <= bmi < 24:\n",
        "        return \"體重適中\"\n",
        "    elif 24 <= bmi < 27:\n",
        "        return \"體重過重\"\n",
        "    else:\n",
        "        return \"體重肥胖\"\n",
        "\n",
        "while True:\n",
        "  try:\n",
        "    height = float(input(\"請輸入身高（公分）：\"))\n",
        "    weight = float(input(\"請輸入體重（公斤）：\"))\n",
        "\n",
        "    bmi = calculate_bmi(height, weight)\n",
        "\n",
        "    result = interpret_bmi(bmi)\n",
        "\n",
        "    print(\"BMI:\", round(bmi, 2))\n",
        "    print(\"體位結果:\", result)\n",
        "\n",
        "    break\n",
        "\n",
        "  except ValueError:\n",
        "    print(\"輸入內容錯誤，請輸入數字.\")\n",
        "\n"
      ],
      "metadata": {
        "colab": {
          "base_uri": "https://localhost:8080/"
        },
        "id": "19V88MDF0tw4",
        "outputId": "744c3173-5809-4c61-9613-8f80afb56c01"
      },
      "execution_count": 34,
      "outputs": [
        {
          "output_type": "stream",
          "name": "stdout",
          "text": [
            "請輸入身高（公分）：abc\n",
            "輸入內容錯誤，請輸入數字.\n",
            "請輸入身高（公分）：153\n",
            "請輸入體重（公斤）：50\n",
            "BMI: 21.36\n",
            "體位結果: 體重適中\n"
          ]
        }
      ]
    }
  ]
}